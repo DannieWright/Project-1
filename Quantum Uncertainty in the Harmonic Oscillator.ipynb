{
 "cells": [
  {
   "cell_type": "markdown",
   "metadata": {},
   "source": [
    "    \"\"\"\n",
    "    Description:\n",
    "    \n",
    "    Parameters:\n",
    "    \n",
    "    Return:\n",
    "    \"\"\"\n",
    "    \n",
    "    have a read me in the repository"
   ]
  },
  {
   "cell_type": "code",
   "execution_count": 3,
   "metadata": {
    "collapsed": true
   },
   "outputs": [],
   "source": [
    "def hermitePolynomial (nValue, xValue):\n",
    "    \"\"\"\n",
    "    Description: Calculates the nth Hermite polynomial for the given n-value at the given x-value\n",
    "    \n",
    "    Parameters: nValue - the nth Hermite polynomial to be calculated\n",
    "                xValue - the independant variable where the Hermite polynomial will be determined\n",
    "    \n",
    "    Return: The value of the nth Hermite polynomial at the given x-value\n",
    "    \"\"\"\n",
    "    \n",
    "    hermiteCur = 2 * xValue\n",
    "    hermitePrev = 1\n",
    "    \n",
    "    if 0 == nValue:\n",
    "        hermiteCurrent = hermitePrev\n",
    "    \n",
    "    elif 1 < nValue:\n",
    "        for i in range (2, nValue):\n",
    "            hermiteNext = 2 * xValue * hermiteCur - 2 * i * hermitePrev\n",
    "            hermitePrev = hermiteCur\n",
    "            hermiteCur = hermiteNext\n",
    "    \n",
    "    return hermiteCur"
   ]
  },
  {
   "cell_type": "code",
   "execution_count": 13,
   "metadata": {
    "collapsed": true
   },
   "outputs": [],
   "source": [
    "import math\n",
    "\n",
    "def quantumWaveFunc (nValue, xValue):\n",
    "    \"\"\"\n",
    "    Description: Calculates the wavefunction of the nth energy level of the one-dimensional quantum harmonic oscillator\n",
    "    \n",
    "    Parameters: nValue - the energy level being calculated\n",
    "                xValue - the independant variable where the wavefunction is being evaluated\n",
    "    \n",
    "    Return: The value of the wavefunction for the nth energy level evaluated at the given x-value\n",
    "    \"\"\"\n",
    "    \n",
    "    return math.exp (-x**2 / 2) / (math.sqrt (2**nValue * math.factorial (nValue) * math.sqrt (math.pi))) * hermitePolynomial (nValue, xValue)"
   ]
  },
  {
   "cell_type": "code",
   "execution_count": null,
   "metadata": {
    "collapsed": true
   },
   "outputs": [],
   "source": [
    "import pylab as py\n",
    "import numpy as np\n",
    "\n",
    "numberOfDataPoints = 10\n",
    "dataValues = [0, 1, 2, 3]\n",
    "x1 = -4\n",
    "x2 =  4\n",
    "\n",
    "xValues = np.linspace (-4, 4, 10, endpoint = True)\n",
    "yValues = []\n",
    "\n",
    "for x in xValues:\n",
    "    yValues.append (quantumWaveFunc (0, x))\n",
    "\n",
    "py.plot (xValues, yValues)\n",
    "py.show ()"
   ]
  },
  {
   "cell_type": "code",
   "execution_count": null,
   "metadata": {
    "collapsed": true
   },
   "outputs": [],
   "source": []
  }
 ],
 "metadata": {
  "kernelspec": {
   "display_name": "Python 3",
   "language": "python",
   "name": "python3"
  },
  "language_info": {
   "codemirror_mode": {
    "name": "ipython",
    "version": 3
   },
   "file_extension": ".py",
   "mimetype": "text/x-python",
   "name": "python",
   "nbconvert_exporter": "python",
   "pygments_lexer": "ipython3",
   "version": "3.4.5"
  }
 },
 "nbformat": 4,
 "nbformat_minor": 1
}
